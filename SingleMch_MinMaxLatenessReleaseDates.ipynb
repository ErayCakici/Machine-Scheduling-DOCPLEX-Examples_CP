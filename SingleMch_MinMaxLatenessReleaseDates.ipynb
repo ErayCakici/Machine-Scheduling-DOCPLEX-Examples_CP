{
 "cells": [
  {
   "cell_type": "markdown",
   "metadata": {},
   "source": [
    "This notebook adresseses a single machine scheduling problem. The objective studied is minimizing the sum of maximum lateness (tardiness) on a single machine with release times.\n",
    "\n",
    "Each job is associated with:\n",
    "\n",
    "- proccesing time\n",
    "- release time\n",
    "- due date\n",
    "\n",
    "A job is tardy if the completion time of job j is later than the due date. All jobs need to be processed on the single machine and preemption is not allowed.\n",
    "\n",
    "The scheduling problem can be represented by 1| $r_j$ |  Max $L_j$ . This problem is known to be NP-hard. IBM ILOG CPLEX Optimization Studio includes solvers for both Mathematical and Constraint Programming. Constraint Programming is particularly efficient and useful to tackle detailed scheduling problems. By using docplex.cp python package, you can easily formulate and solve scheduling problems in python notebooks. Below is an example formulation with randomly generated sample data to provide a better understanding of the problem and the model. "
   ]
  },
  {
   "cell_type": "code",
   "execution_count": 1,
   "metadata": {},
   "outputs": [],
   "source": [
    "nbrOfJobs = 10"
   ]
  },
  {
   "cell_type": "code",
   "execution_count": 2,
   "metadata": {},
   "outputs": [],
   "source": [
    "jobs = [*range(0, nbrOfJobs)] "
   ]
  },
  {
   "cell_type": "code",
   "execution_count": 3,
   "metadata": {},
   "outputs": [],
   "source": [
    "minProcessingTime=10\n",
    "maxProcessingTime=40\n",
    "import random\n",
    "processingTimes = [random.randint(minProcessingTime, maxProcessingTime) for j in jobs]"
   ]
  },
  {
   "cell_type": "code",
   "execution_count": 4,
   "metadata": {},
   "outputs": [],
   "source": [
    "minDueDate=50\n",
    "maxDueDate=250\n",
    "dueDates = random.sample(range(minDueDate, maxDueDate), len(jobs))"
   ]
  },
  {
   "cell_type": "code",
   "execution_count": 5,
   "metadata": {},
   "outputs": [],
   "source": [
    "minReleaseTime=1\n",
    "maxReleaseTime=50\n",
    "releaseTimes = [random.randint(minReleaseTime, maxReleaseTime) for j in jobs]"
   ]
  },
  {
   "cell_type": "code",
   "execution_count": 6,
   "metadata": {},
   "outputs": [
    {
     "name": "stdout",
     "output_type": "stream",
     "text": [
      "  job processing_time release_time due_date\n",
      "0   0              21           44      194\n",
      "1   1              27           41      159\n",
      "2   2              33           42      198\n",
      "3   3              27           36      158\n",
      "4   4              13           46      156\n",
      "5   5              31           22      208\n",
      "6   6              25           19      150\n",
      "7   7              33           21       57\n",
      "8   8              12            6      220\n",
      "9   9              16           46      190\n"
     ]
    }
   ],
   "source": [
    "import pandas as pd\n",
    "JobsTable = pd.DataFrame(columns=['job', 'processing_time', 'release_time', 'due_date'])\n",
    "for j in jobs:\n",
    "    JobsTable=JobsTable.append({'job': j,'processing_time':processingTimes[j],'release_time':releaseTimes[j],'due_date':dueDates[j]}, ignore_index=True)\n",
    "print(JobsTable)"
   ]
  },
  {
   "cell_type": "code",
   "execution_count": 7,
   "metadata": {},
   "outputs": [],
   "source": [
    "from docplex.cp.model import *\n",
    "mdl = CpoModel(name='singleMachineSchedulingMinMaxLateness') "
   ]
  },
  {
   "cell_type": "code",
   "execution_count": 8,
   "metadata": {},
   "outputs": [
    {
     "name": "stdout",
     "output_type": "stream",
     "text": [
      "interval_job0 = intervalVar(size=21)\n",
      "interval_job1 = intervalVar(size=27)\n",
      "interval_job2 = intervalVar(size=33)\n",
      "interval_job3 = intervalVar(size=27)\n",
      "interval_job4 = intervalVar(size=13)\n",
      "interval_job5 = intervalVar(size=31)\n",
      "interval_job6 = intervalVar(size=25)\n",
      "interval_job7 = intervalVar(size=33)\n",
      "interval_job8 = intervalVar(size=12)\n",
      "interval_job9 = intervalVar(size=16)\n"
     ]
    }
   ],
   "source": [
    "# define production processing interval of each job at each machine\n",
    "processing_itv_vars = [mdl.interval_var(size=processingTimes[j], name=\"interval_job{}\".format(j)) for j in jobs] \n",
    "for j in jobs:\n",
    "    print(processing_itv_vars[j])"
   ]
  },
  {
   "cell_type": "code",
   "execution_count": 9,
   "metadata": {},
   "outputs": [],
   "source": [
    "# define maximum lateness variable\n",
    "maxLateness_var = mdl.integer_var(name=\"maxLateness\")"
   ]
  },
  {
   "cell_type": "code",
   "execution_count": 10,
   "metadata": {},
   "outputs": [],
   "source": [
    "#define objective \n",
    "objective = maxLateness_var\n",
    "mdl.add(mdl.minimize(objective)) "
   ]
  },
  {
   "cell_type": "code",
   "execution_count": 11,
   "metadata": {},
   "outputs": [],
   "source": [
    "#ensure that jobs start after release times\n",
    "for j in jobs:\n",
    "    mdl.add(mdl.start_of(processing_itv_vars[j])>=releaseTimes[j])"
   ]
  },
  {
   "cell_type": "code",
   "execution_count": 12,
   "metadata": {},
   "outputs": [],
   "source": [
    "#define maximum lateness\n",
    "for j in jobs:\n",
    "    mdl.add(mdl.max([0,mdl.end_of(processing_itv_vars[j])-dueDates[j]])<=maxLateness_var)"
   ]
  },
  {
   "cell_type": "code",
   "execution_count": 13,
   "metadata": {},
   "outputs": [],
   "source": [
    "#No overlap constraint\n",
    "mdl.add(mdl.no_overlap([processing_itv_vars[j] for j in jobs])) "
   ]
  },
  {
   "cell_type": "code",
   "execution_count": 14,
   "metadata": {},
   "outputs": [],
   "source": [
    "msol= mdl.solve(log_output=True)"
   ]
  },
  {
   "cell_type": "code",
   "execution_count": 15,
   "metadata": {},
   "outputs": [
    {
     "name": "stdout",
     "output_type": "stream",
     "text": [
      "Solution: \n",
      "-------------------------------------------------------------------------------\n",
      "Model constraints: 21, variables: integer: 1, interval: 10, sequence: 1\n",
      "Solve status: Optimal, Fail status: SearchHasFailedNormally\n",
      "Search status: SearchCompleted, stop cause: SearchHasNotBeenStopped\n",
      "Solve time: 0.19 sec\n",
      "-------------------------------------------------------------------------------\n",
      "Objective values: (37,), bounds: (37,), gaps: (0,)\n",
      "maxLateness=37\n",
      "interval_job0: (start=133, end=154, size=21, length=21)\n",
      "interval_job1: (start=154, end=181, size=27, length=27)\n",
      "interval_job2: (start=181, end=214, size=33, length=33)\n",
      "interval_job3: (start=106, end=133, size=27, length=27)\n",
      "interval_job4: (start=77, end=90, size=13, length=13)\n",
      "interval_job5: (start=214, end=245, size=31, length=31)\n",
      "interval_job6: (start=19, end=44, size=25, length=25)\n",
      "interval_job7: (start=44, end=77, size=33, length=33)\n",
      "interval_job8: (start=6, end=18, size=12, length=12)\n",
      "interval_job9: (start=90, end=106, size=16, length=16)\n"
     ]
    }
   ],
   "source": [
    "print(\"Solution: \")\n",
    "msol.print_solution()"
   ]
  },
  {
   "cell_type": "code",
   "execution_count": 16,
   "metadata": {},
   "outputs": [
    {
     "name": "stdout",
     "output_type": "stream",
     "text": [
      "job 1 lateness is 22\n",
      "job 2 lateness is 16\n",
      "job 5 lateness is 37\n",
      "job 7 lateness is 20\n"
     ]
    }
   ],
   "source": [
    "for j in jobs:\n",
    "    if((msol.get_var_solution(processing_itv_vars[j]).get_end()) > dueDates[j]):\n",
    "       print(\"job {} lateness is {}\".format(j,msol.get_var_solution(processing_itv_vars[j]).get_end()-dueDates[j]))"
   ]
  },
  {
   "cell_type": "code",
   "execution_count": 17,
   "metadata": {},
   "outputs": [
    {
     "data": {
      "image/png": "[encoded data removed]",
      "text/plain": [
       "<Figure size 1800x360 with 1 Axes>"
      ]
     },
     "metadata": {
      "needs_background": "light"
     },
     "output_type": "display_data"
    }
   ],
   "source": [
    "import docplex.cp.utils_visu as visu\n",
    "import matplotlib.pyplot as plt\n",
    "#Change the plot size\n",
    "from pylab import rcParams\n",
    "rcParams['figure.figsize'] = 25, 5\n",
    "if msol and visu.is_visu_enabled():\n",
    "    visu.timeline(\"Solution Schedule\", 0, 100)\n",
    "    for j in jobs:\n",
    "        itv = msol.get_var_solution(processing_itv_vars[j])\n",
    "        if itv.is_present():\n",
    "            visu.interval(itv,'lightgreen','J' + str(j))\n",
    "    visu.show()"
   ]
  },
  {
   "cell_type": "code",
   "execution_count": null,
   "metadata": {},
   "outputs": [],
   "source": []
  }
 ],
 "metadata": {
  "kernelspec": {
   "display_name": "Python 3.7",
   "language": "python",
   "name": "python3"
  },
  "language_info": {
   "codemirror_mode": {
    "name": "ipython",
    "version": 3
   },
   "file_extension": ".py",
   "mimetype": "text/x-python",
   "name": "python",
   "nbconvert_exporter": "python",
   "pygments_lexer": "ipython3",
   "version": "3.7.9"
  }
 },
 "nbformat": 4,
 "nbformat_minor": 1
}
