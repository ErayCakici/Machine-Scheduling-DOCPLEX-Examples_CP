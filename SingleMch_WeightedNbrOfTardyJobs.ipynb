{
 "cells": [
  {
   "cell_type": "markdown",
   "metadata": {},
   "source": [
    "This notebook adresseses a basic single machine scheduling problem. The objective studied is minimizing total weighted number of tardy jobs. \n",
    "\n",
    "Each job is associated with:\n",
    "- proccesing time \n",
    "- due date\n",
    "- weight\n",
    "\n",
    "A job is tardy if the completion time of job *j* is later than the due date. All jobs need to be processed on the single machine and preemption is not allowed. \n",
    "\n",
    "The scheduling problem can be represented by 1| | $\\sum_{i=1}^n w_jU_j$. This problem is known to be NP-hard, even when the jobs all have common due date. IBM ILOG CPLEX Optimization Studio includes solvers for both Mathematical and Constraint Programming. Constraint Programming is particularly efficient and useful to tackle such detailed scheduling problems. By using docplex.cp python package, you can easily formulate and solve scheduling problems in python notebooks. Below is an example formulation with randomly generated sample data to provide a better understanding of the problem and the code. \n",
    "\n"
   ]
  },
  {
   "cell_type": "code",
   "execution_count": 1,
   "metadata": {},
   "outputs": [],
   "source": [
    "nbrOfJobs = 10\n",
    "jobs = [*range(0, nbrOfJobs)] "
   ]
  },
  {
   "cell_type": "code",
   "execution_count": 2,
   "metadata": {},
   "outputs": [],
   "source": [
    "minProcessingTime=10\n",
    "maxProcessingTime=40\n",
    "import random\n",
    "processingTimes = [random.randint(minProcessingTime, maxProcessingTime) for j in jobs]"
   ]
  },
  {
   "cell_type": "code",
   "execution_count": 3,
   "metadata": {},
   "outputs": [],
   "source": [
    "minDueDate=75\n",
    "maxDueDate=200\n",
    "dueDates = random.sample(range(minDueDate, maxDueDate), len(jobs))"
   ]
  },
  {
   "cell_type": "code",
   "execution_count": 4,
   "metadata": {},
   "outputs": [],
   "source": [
    "minWeight=1\n",
    "maxWeight=5\n",
    "weights = [random.randint(minWeight, maxWeight) for j in jobs]"
   ]
  },
  {
   "cell_type": "code",
   "execution_count": 5,
   "metadata": {},
   "outputs": [
    {
     "name": "stdout",
     "output_type": "stream",
     "text": [
      "  job processing_time weight due_date\n",
      "0   0              36      1       96\n",
      "1   1              12      4      107\n",
      "2   2              25      3       87\n",
      "3   3              15      1      158\n",
      "4   4              13      2       88\n",
      "5   5              37      1       78\n",
      "6   6              23      1      150\n",
      "7   7              15      2       89\n",
      "8   8              36      4       77\n",
      "9   9              15      5      171\n"
     ]
    }
   ],
   "source": [
    "import pandas as pd\n",
    "JobsTable = pd.DataFrame(columns=['job', 'processing_time', 'weight', 'due_date'])\n",
    "for j in jobs:\n",
    "    JobsTable=JobsTable.append({'job': j,'processing_time':processingTimes[j],'weight':weights[j],'due_date':dueDates[j]}, ignore_index=True)\n",
    "print(JobsTable)"
   ]
  },
  {
   "cell_type": "code",
   "execution_count": 6,
   "metadata": {},
   "outputs": [],
   "source": [
    "from docplex.cp.model import *\n",
    "mdl = CpoModel(name='singleMachineScheduling_WeightedNbrOfTardyJobs') "
   ]
  },
  {
   "cell_type": "code",
   "execution_count": 7,
   "metadata": {},
   "outputs": [
    {
     "name": "stdout",
     "output_type": "stream",
     "text": [
      "interval_job0 = intervalVar(size=36)\n",
      "interval_job1 = intervalVar(size=12)\n",
      "interval_job2 = intervalVar(size=25)\n",
      "interval_job3 = intervalVar(size=15)\n",
      "interval_job4 = intervalVar(size=13)\n",
      "interval_job5 = intervalVar(size=37)\n",
      "interval_job6 = intervalVar(size=23)\n",
      "interval_job7 = intervalVar(size=15)\n",
      "interval_job8 = intervalVar(size=36)\n",
      "interval_job9 = intervalVar(size=15)\n"
     ]
    }
   ],
   "source": [
    "# define production processing interval of each job at each machine\n",
    "processing_itv_vars = [mdl.interval_var(size=processingTimes[j], name=\"interval_job{}\".format(j)) for j in jobs] \n",
    "for j in jobs:\n",
    "    print(processing_itv_vars[j])"
   ]
  },
  {
   "cell_type": "code",
   "execution_count": 8,
   "metadata": {},
   "outputs": [],
   "source": [
    "#minimize number of tardy jobs\n",
    "objective = mdl.sum((mdl.end_of(processing_itv_vars[j])>dueDates[j])*weights[j] for j in jobs)  \n",
    "mdl.add(mdl.minimize(objective)) "
   ]
  },
  {
   "cell_type": "code",
   "execution_count": 9,
   "metadata": {},
   "outputs": [],
   "source": [
    "#No overlap constraint\n",
    "mdl.add(mdl.no_overlap([processing_itv_vars[j] for j in jobs])) "
   ]
  },
  {
   "cell_type": "code",
   "execution_count": 10,
   "metadata": {},
   "outputs": [],
   "source": [
    "msol= mdl.solve(log_output=True)"
   ]
  },
  {
   "cell_type": "code",
   "execution_count": 11,
   "metadata": {},
   "outputs": [
    {
     "name": "stdout",
     "output_type": "stream",
     "text": [
      "Solution: \n",
      "-------------------------------------------------------------------------------\n",
      "Model constraints: 1, variables: integer: 0, interval: 10, sequence: 1\n",
      "Solve status: Optimal, Fail status: SearchHasFailedNormally\n",
      "Search status: SearchCompleted, stop cause: SearchHasNotBeenStopped\n",
      "Solve time: 0.46 sec\n",
      "-------------------------------------------------------------------------------\n",
      "Objective values: (2,), bounds: (2,), gaps: (0,)\n",
      "interval_job0: (start=154, end=190, size=36, length=36)\n",
      "interval_job1: (start=89, end=101, size=12, length=12)\n",
      "interval_job2: (start=13, end=38, size=25, length=25)\n",
      "interval_job3: (start=139, end=154, size=15, length=15)\n",
      "interval_job4: (start=0, end=13, size=13, length=13)\n",
      "interval_job5: (start=190, end=227, size=37, length=37)\n",
      "interval_job6: (start=116, end=139, size=23, length=23)\n",
      "interval_job7: (start=74, end=89, size=15, length=15)\n",
      "interval_job8: (start=38, end=74, size=36, length=36)\n",
      "interval_job9: (start=101, end=116, size=15, length=15)\n"
     ]
    }
   ],
   "source": [
    "print(\"Solution: \")\n",
    "msol.print_solution()"
   ]
  },
  {
   "cell_type": "code",
   "execution_count": 12,
   "metadata": {},
   "outputs": [
    {
     "name": "stdout",
     "output_type": "stream",
     "text": [
      "job 0 with weight 1 is tardy\n",
      "job 5 with weight 1 is tardy\n"
     ]
    }
   ],
   "source": [
    "for j in jobs:\n",
    "    if((msol.get_var_solution(processing_itv_vars[j]).get_end()) > dueDates[j]):\n",
    "       print(\"job {} with weight {} is tardy\".format(j,weights[j]))\n",
    "    "
   ]
  },
  {
   "cell_type": "code",
   "execution_count": 13,
   "metadata": {},
   "outputs": [
    {
     "data": {
      "image/png": "[encoded data removed]",
      "text/plain": [
       "<Figure size 1800x360 with 1 Axes>"
      ]
     },
     "metadata": {
      "needs_background": "light"
     },
     "output_type": "display_data"
    }
   ],
   "source": [
    "import docplex.cp.utils_visu as visu\n",
    "import matplotlib.pyplot as plt\n",
    "#Change the plot size\n",
    "from pylab import rcParams\n",
    "rcParams['figure.figsize'] = 25, 5\n",
    "if msol and visu.is_visu_enabled():\n",
    "    visu.timeline(\"Solution Schedule\", 0, 100)\n",
    "    for j in jobs:\n",
    "        itv = msol.get_var_solution(processing_itv_vars[j])\n",
    "        if itv.is_present():\n",
    "            visu.interval(itv,'lightgreen','J' + str(j))\n",
    "    visu.show()"
   ]
  },
  {
   "cell_type": "code",
   "execution_count": null,
   "metadata": {},
   "outputs": [],
   "source": []
  }
 ],
 "metadata": {
  "kernelspec": {
   "display_name": "Python 3.7",
   "language": "python",
   "name": "python3"
  },
  "language_info": {
   "codemirror_mode": {
    "name": "ipython",
    "version": 3
   },
   "file_extension": ".py",
   "mimetype": "text/x-python",
   "name": "python",
   "nbconvert_exporter": "python",
   "pygments_lexer": "ipython3",
   "version": "3.7.9"
  }
 },
 "nbformat": 4,
 "nbformat_minor": 1
}
